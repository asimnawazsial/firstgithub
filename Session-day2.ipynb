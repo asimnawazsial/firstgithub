{
 "cells": [
  {
   "cell_type": "code",
   "execution_count": 1,
   "id": "a13550c5",
   "metadata": {},
   "outputs": [],
   "source": [
    "#body mass index(BMI)\n",
    "#input weight\n",
    "#weight\n",
    "#BMI(ask your self your height)\n",
    "#weight\n",
    "#Calculate BMI\n",
    "#Print BMI(my name and BMI is )"
   ]
  },
  {
   "cell_type": "code",
   "execution_count": 2,
   "id": "9e98cf4a",
   "metadata": {},
   "outputs": [
    {
     "name": "stdout",
     "output_type": "stream",
     "text": [
      "what is your height1.7\n"
     ]
    }
   ],
   "source": [
    "height = input(\"what is your height\") \n"
   ]
  },
  {
   "cell_type": "code",
   "execution_count": 3,
   "id": "fc596f2a",
   "metadata": {},
   "outputs": [],
   "source": [
    "height=float(height)"
   ]
  },
  {
   "cell_type": "code",
   "execution_count": 4,
   "id": "f2535518",
   "metadata": {},
   "outputs": [
    {
     "name": "stdout",
     "output_type": "stream",
     "text": [
      "what is your wight?85\n"
     ]
    }
   ],
   "source": [
    "weight = input(\"what is your wight?\")"
   ]
  },
  {
   "cell_type": "code",
   "execution_count": 5,
   "id": "c79b151a",
   "metadata": {},
   "outputs": [],
   "source": [
    "weight=float(weight)"
   ]
  },
  {
   "cell_type": "code",
   "execution_count": 6,
   "id": "ce15f5cc",
   "metadata": {},
   "outputs": [
    {
     "name": "stdout",
     "output_type": "stream",
     "text": [
      "what is your namenawaz\n"
     ]
    }
   ],
   "source": [
    "name = input(\"what is your name\")\n"
   ]
  },
  {
   "cell_type": "code",
   "execution_count": 7,
   "id": "aabff335",
   "metadata": {},
   "outputs": [],
   "source": [
    "BMI= (\"weight/height\")\n",
    "\n"
   ]
  }
 ],
 "metadata": {
  "kernelspec": {
   "display_name": "Python 3",
   "language": "python",
   "name": "python3"
  },
  "language_info": {
   "codemirror_mode": {
    "name": "ipython",
    "version": 3
   },
   "file_extension": ".py",
   "mimetype": "text/x-python",
   "name": "python",
   "nbconvert_exporter": "python",
   "pygments_lexer": "ipython3",
   "version": "3.8.8"
  }
 },
 "nbformat": 4,
 "nbformat_minor": 5
}
