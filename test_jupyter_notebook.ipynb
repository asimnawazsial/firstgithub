{
 "cells": [
  {
   "cell_type": "code",
   "execution_count": 2,
   "id": "af05071a",
   "metadata": {},
   "outputs": [
    {
     "data": {
      "text/plain": [
       "5"
      ]
     },
     "execution_count": 2,
     "metadata": {},
     "output_type": "execute_result"
    }
   ],
   "source": [
    "a"
   ]
  },
  {
   "cell_type": "code",
   "execution_count": 1,
   "id": "9bb51199",
   "metadata": {},
   "outputs": [
    {
     "name": "stdout",
     "output_type": "stream",
     "text": [
      "5\n"
     ]
    }
   ],
   "source": [
    "a=2+3\n",
    "print(a)\n"
   ]
  },
  {
   "cell_type": "markdown",
   "id": "c8517379",
   "metadata": {},
   "source": [
    "b=\"learning python with baba_Aammar\"\n",
    "#pyhton ka chilla\n",
    "##how to ue jupyter notebook \n",
    "###our basics of python \n",
    "1-my first program\n",
    "\n",
    "2-my second program"
   ]
  },
  {
   "cell_type": "markdown",
   "id": "26bcd09b",
   "metadata": {},
   "source": [
    "#pyhton ka chilla\n",
    "##how to ue jupyter notebook\n",
    "###our basics of python\n",
    "1-my first program\n",
    "\n",
    "2-my second program"
   ]
  },
  {
   "cell_type": "code",
   "execution_count": 5,
   "id": "92b2b7e2",
   "metadata": {},
   "outputs": [
    {
     "ename": "SyntaxError",
     "evalue": "invalid syntax (<ipython-input-5-8a1390e2c2ba>, line 5)",
     "output_type": "error",
     "traceback": [
      "\u001b[1;36m  File \u001b[1;32m\"<ipython-input-5-8a1390e2c2ba>\"\u001b[1;36m, line \u001b[1;32m5\u001b[0m\n\u001b[1;33m    1-my first program\u001b[0m\n\u001b[1;37m         ^\u001b[0m\n\u001b[1;31mSyntaxError\u001b[0m\u001b[1;31m:\u001b[0m invalid syntax\n"
     ]
    }
   ],
   "source": [
    "'learning python with baba_Aammar'\n",
    "\n",
    "#My_first programm in pyhton\n",
    "print(\"learn_pyhton_with_ammar\")\n",
    "print(\"basics_python\")\n",
    "print(2+3)\n",
    "print(\"hello baba i am learning pyton\")\n",
    "print(\"jupyter mission visual studio mission\")"
   ]
  },
  {
   "cell_type": "code",
   "execution_count": 6,
   "id": "9a9fc236",
   "metadata": {},
   "outputs": [
    {
     "name": "stdout",
     "output_type": "stream",
     "text": [
      "2 january 2022\n",
      "5\n",
      "2\n",
      "3.0\n",
      "1\n",
      "16\n"
     ]
    }
   ],
   "source": [
    "####\"03-operators\"\n",
    "print (\"2 january 2022\")\n",
    "print(3+2)\n",
    "print(3-1)\n",
    "print(6/2)\n",
    "print(19%2)\n",
    "print(2*8)"
   ]
  },
  {
   "cell_type": "code",
   "execution_count": 8,
   "id": "0b1ae874",
   "metadata": {},
   "outputs": [],
   "source": [
    "#####\"04-strings\""
   ]
  },
  {
   "cell_type": "code",
   "execution_count": 7,
   "id": "aa53a8b6",
   "metadata": {},
   "outputs": [
    {
     "name": "stdout",
     "output_type": "stream",
     "text": [
      "asim nawaz here\n",
      "We are learning python with Aammar\n",
      "Test for single quotes\n",
      "test for double quotes\n",
      "test for tripple quotes\n",
      "  what's up     ?\n",
      "strings mission understood\n",
      "2 january 22, 6pm\n"
     ]
    }
   ],
   "source": [
    "print(\"asim nawaz here\")\n",
    "print(\"We are learning python with Aammar\")\n",
    "print('Test for single quotes')\n",
    "print(\"test for double quotes\")\n",
    "print('''test for tripple quotes''')\n",
    "print(\"  what's up     ?\")\n",
    "print(\"strings mission understood\")\n",
    "print(\"2 january 22, 6pm\")"
   ]
  },
  {
   "cell_type": "code",
   "execution_count": 10,
   "id": "c5e6f0b2",
   "metadata": {},
   "outputs": [
    {
     "name": "stdout",
     "output_type": "stream",
     "text": [
      "How are you?\n",
      "we are learning python with ammar\n",
      "8\n"
     ]
    }
   ],
   "source": [
    "#####\"04-comments\"\n",
    "print(\"How are you?\")  #press these to comment out (ctrl+/)\n",
    "print(\"we are learning python with ammar\") #print a string\n",
    "print(2+6) #print operators function with numbers"
   ]
  },
  {
   "cell_type": "code",
   "execution_count": null,
   "id": "e969b77f",
   "metadata": {},
   "outputs": [],
   "source": []
  }
 ],
 "metadata": {
  "kernelspec": {
   "display_name": "Python 3",
   "language": "python",
   "name": "python3"
  },
  "language_info": {
   "codemirror_mode": {
    "name": "ipython",
    "version": 3
   },
   "file_extension": ".py",
   "mimetype": "text/x-python",
   "name": "python",
   "nbconvert_exporter": "python",
   "pygments_lexer": "ipython3",
   "version": "3.8.8"
  }
 },
 "nbformat": 4,
 "nbformat_minor": 5
}
